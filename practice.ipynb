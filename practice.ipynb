{
 "cells": [
  {
   "cell_type": "markdown",
   "id": "85592807",
   "metadata": {},
   "source": [
    "# BETA Dataset Inspector \n",
    "\n",
    "\n",
    "This notebook is a tool for exploring the structure and contents of the BETA dataset.\n",
    "\n",
    "**How to use**\n",
    "1. Make sure this notebook is in the root directory of your project.\n",
    "2. Set the `SUBJECT_ID_TO_INSPECT` variable in the cell below.\n",
    "3. Run all the cells to see a full breakdown of the data structure for that subject."
   ]
  },
  {
   "cell_type": "code",
   "execution_count": 2,
   "id": "17ba96e7",
   "metadata": {},
   "outputs": [],
   "source": [
    "import scipy.io\n",
    "import numpy as np\n",
    "import os"
   ]
  },
  {
   "cell_type": "markdown",
   "id": "431d3929",
   "metadata": {},
   "source": [
    "### 1. Configuration\n",
    "Set the path to your data and the subject ID you want to inspect."
   ]
  },
  {
   "cell_type": "code",
   "execution_count": 3,
   "id": "a5cdee8c",
   "metadata": {},
   "outputs": [],
   "source": [
    "# This should be the path to the folder containing S1.mat, S2.mat, etc.\n",
    "# Based on your directory structure, it should be 'Data'.\n",
    "DATA_PATH = '../Data'\n",
    "\n",
    "# Change this number to inspect any subject from 1 to 70.\n",
    "SUBJECT_ID = 1"
   ]
  },
  {
   "cell_type": "markdown",
   "id": "373d40d2",
   "metadata": {},
   "source": [
    "### 2. Helper Function for Data Inspection\n",
    "This function recursively prints the structure of the loaded MATLAB data, similar to a `pandas.info()` summary but for nested structures."
   ]
  },
  {
   "cell_type": "code",
   "execution_count": 6,
   "id": "a67277a5",
   "metadata": {},
   "outputs": [],
   "source": [
    "def inspect_mat_structure(data, indent=0):\n",
    "    \"\"\"Recursively prints the keys, types, and shapes of a loaded .mat file.\"\"\"\n",
    "    \n",
    "    # Determine if the data is a dictionary (from top-level) or a mat_struct object\n",
    "    if isinstance(data, dict):\n",
    "        items = data.items()\n",
    "    elif isinstance(data, scipy.io.matlab.mat_struct):\n",
    "        # Get the field names from the object's dictionary, ignoring private/magic methods\n",
    "        items = {key: getattr(data, key) for key in data.__dict__ if not key.startswith('_')}.items()\n",
    "    else:\n",
    "        return\n",
    "    \n",
    "    for key, value in items:\n",
    "        # Indent for readability\n",
    "        print('  ' * indent, end='')\n",
    "        \n",
    "        if isinstance(value, scipy.io.matlab.mat_struct):\n",
    "            print(f\"Key/Field: '{key}' | Type: MATLAB Struct Object\")\n",
    "            # Recursively call the function on the struct object itself\n",
    "            inspect_mat_structure(value, indent + 1)\n",
    "            \n",
    "        elif isinstance(value, np.ndarray):\n",
    "            print(f\"Key/Field: '{key}' | Type: numpy.ndarray | Shape: {value.shape} | Dtype: {value.dtype}\")\n",
    "        \n",
    "        else:\n",
    "            # For simple variables like strings, numbers, etc.\n",
    "            print(f\"Key/Field: '{key}' | Type: {type(value).__name__} | Value: {value}\")"
   ]
  },
  {
   "cell_type": "markdown",
   "id": "2a5c3ea5",
   "metadata": {},
   "source": [
    "### 3. Load and Inspect the Data\n",
    "This cell loads the specified subject's data and runs the inspection function.\n",
    "The output will show you the exact keys and structure you need to use in your `test.py` script.\n"
   ]
  },
  {
   "cell_type": "code",
   "execution_count": 7,
   "id": "61c42403",
   "metadata": {},
   "outputs": [
    {
     "name": "stdout",
     "output_type": "stream",
     "text": [
      "--- Inspecting file: ../Data/S1.mat ---\n",
      "\n",
      "--- Full file structure ---\n",
      "Key/Field: '__header__' | Type: bytes | Value: b'MATLAB 5.0 MAT-file, Platform: PCWIN64, Created on: Wed Oct 20 11:40:24 2021'\n",
      "Key/Field: '__version__' | Type: str | Value: 1.0\n",
      "Key/Field: '__globals__' | Type: list | Value: []\n",
      "Key/Field: 'data' | Type: MATLAB Struct Object\n",
      "  Key/Field: 'EEG' | Type: numpy.ndarray | Shape: (64, 750, 4, 40) | Dtype: float64\n",
      "  Key/Field: 'suppl_info' | Type: MATLAB Struct Object\n",
      "    Key/Field: 'sub' | Type: str | Value: S1\n",
      "    Key/Field: 'age' | Type: float | Value: 26.5\n",
      "    Key/Field: 'gender' | Type: str | Value: female\n",
      "    Key/Field: 'chan' | Type: numpy.ndarray | Shape: (64, 4) | Dtype: object\n",
      "    Key/Field: 'freqs' | Type: numpy.ndarray | Shape: (40,) | Dtype: float64\n",
      "    Key/Field: 'phases' | Type: numpy.ndarray | Shape: (40,) | Dtype: float64\n",
      "    Key/Field: 'bci_quotient' | Type: float | Value: 108.44332637198063\n",
      "    Key/Field: 'wide_snr' | Type: float | Value: -12.479727738714981\n",
      "    Key/Field: 'narrow_snr' | Type: float | Value: 4.671157504218424\n",
      "    Key/Field: 'srate' | Type: int | Value: 250\n"
     ]
    }
   ],
   "source": [
    "if __name__ == \"__main__\":\n",
    "    file_path = os.path.join(DATA_PATH, f'S{SUBJECT_ID}.mat')\n",
    "    mat_data = None\n",
    "\n",
    "    try:\n",
    "        print(f\"--- Inspecting file: {file_path} ---\\n\")\n",
    "        # struct_as_record=False is important to load structs as objects for easier inspection\n",
    "        # squeeze_me=True removes singleton dimensions, which is convenient\n",
    "        mat_data = scipy.io.loadmat(file_path, squeeze_me=True, struct_as_record=False)\n",
    "        \n",
    "        print(\"--- Full file structure ---\")\n",
    "        # Run the inspection\n",
    "        inspect_mat_structure(mat_data)\n",
    "\n",
    "    except FileNotFoundError:\n",
    "        print(f\"ERROR: File not found at '{file_path}'. Please check your DATA_PATH variable.\")\n",
    "    except Exception as e:\n",
    "        print(f\"An error occurred: {e}\")"
   ]
  },
  {
   "cell_type": "markdown",
   "id": "1e0f29f7",
   "metadata": {},
   "source": [
    "### 4. Specific Inspection of the 'data' Field\n",
    "This section specifically isolates the 'data' struct and inspects its contents.\n",
    "This will show you exactly what attributes it has."
   ]
  },
  {
   "cell_type": "code",
   "execution_count": 8,
   "id": "cf1cfcd8",
   "metadata": {},
   "outputs": [
    {
     "name": "stdout",
     "output_type": "stream",
     "text": [
      "\n",
      "--- Inspecting Fields within the 'data' Struct ---\n",
      "Key/Field: 'EEG' | Type: numpy.ndarray | Shape: (64, 750, 4, 40) | Dtype: float64\n",
      "Key/Field: 'suppl_info' | Type: MATLAB Struct Object\n",
      "  Key/Field: 'sub' | Type: str | Value: S1\n",
      "  Key/Field: 'age' | Type: float | Value: 26.5\n",
      "  Key/Field: 'gender' | Type: str | Value: female\n",
      "  Key/Field: 'chan' | Type: numpy.ndarray | Shape: (64, 4) | Dtype: object\n",
      "  Key/Field: 'freqs' | Type: numpy.ndarray | Shape: (40,) | Dtype: float64\n",
      "  Key/Field: 'phases' | Type: numpy.ndarray | Shape: (40,) | Dtype: float64\n",
      "  Key/Field: 'bci_quotient' | Type: float | Value: 108.44332637198063\n",
      "  Key/Field: 'wide_snr' | Type: float | Value: -12.479727738714981\n",
      "  Key/Field: 'narrow_snr' | Type: float | Value: 4.671157504218424\n",
      "  Key/Field: 'srate' | Type: int | Value: 250\n"
     ]
    }
   ],
   "source": [
    "if mat_data and 'data' in mat_data:\n",
    "    print(\"\\n--- Inspecting Fields within the 'data' Struct ---\")\n",
    "    \n",
    "    try:\n",
    "        # Access the mat_struct object\n",
    "        data_struct = mat_data['data']\n",
    "        \n",
    "        # Use the same inspection function to see what's inside\n",
    "        inspect_mat_structure(data_struct)\n",
    "    except Exception as e:\n",
    "        print(f\"Could not inspect the 'data' struct. Error: {e}\")\n",
    "else:\n",
    "    print(\"\\n--- The key 'data' was not found at the top level of the .mat file. ---\")"
   ]
  }
 ],
 "metadata": {
  "kernelspec": {
   "display_name": "dipl_venv",
   "language": "python",
   "name": "python3"
  },
  "language_info": {
   "codemirror_mode": {
    "name": "ipython",
    "version": 3
   },
   "file_extension": ".py",
   "mimetype": "text/x-python",
   "name": "python",
   "nbconvert_exporter": "python",
   "pygments_lexer": "ipython3",
   "version": "3.9.16"
  }
 },
 "nbformat": 4,
 "nbformat_minor": 5
}
